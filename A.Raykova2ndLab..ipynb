{
 "cells": [
  {
   "cell_type": "markdown",
   "id": "ee8a02f8-cbca-4ada-8d16-31830dc08e06",
   "metadata": {},
   "source": [
    "# \"My Jupyter Notebook on IBM Professional Data science certificate \""
   ]
  },
  {
   "cell_type": "markdown",
   "id": "2377c523-fb8e-4e87-8f70-1ec064440512",
   "metadata": {},
   "source": [
    "### Introduction"
   ]
  },
  {
   "cell_type": "markdown",
   "id": "b48e38c4-b626-426f-99ac-e14898cb89b8",
   "metadata": {},
   "source": [
    "List of data science languages:\n",
    "1. Python\n",
    "2. SQL (Structured Query Language)\n",
    "3. R\n",
    "4. Julia \n",
    "5. JavaScript\n",
    "6. Scala\n",
    "7. Java\n",
    "8. Go\n",
    "9. MATLAB \n",
    "10. C/C++\n",
    "11. Statistical Analytical System (SAS)\n"
   ]
  },
  {
   "cell_type": "markdown",
   "id": "f47d68ee-d3e7-42fd-9d26-3915e8ca8ba0",
   "metadata": {},
   "source": [
    "List data science libraries in Python:\n",
    "- TensorFlow\n",
    "- NumPy\n",
    "- SciPy \n",
    "- Pandas\n",
    "- Matplotlib \n",
    "- Keras\n",
    "- SciKit-Learn\n",
    "- PyTorch\n",
    "- Scrapy\n",
    "- BeautifulSoup\n",
    "- LightGBM\n",
    "- ELI5\n",
    "- Theano\n",
    "- NuPIC\n",
    "- Ramp\n",
    "- Pipenv\n",
    "- Bob\n",
    "- PyBrain\n",
    "- Caffe2\n",
    "- Chainer"
   ]
  },
  {
   "cell_type": "markdown",
   "id": "6a84bd31-6961-4a5d-97d5-cd4ffb52cbab",
   "metadata": {},
   "source": [
    "### Table with Data Science tools\n",
    "\n",
    "| Number  | Data science tools |\n",
    "|--------------|------------------|\n",
    "| 1.  |Tableau | \n",
    "| 2.  | Excel |\n",
    "| 3.  | Rapidminer  |\n",
    "| 4.  | DataRobot |\n",
    "| 5.  | QlikView |\n",
    "| 6.  | H20 |\n",
    "| 7.  | Tensor Flow |\n",
    "| 8.  | BigML |\n",
    "| 9.  | Snowflake |\n",
    "| 10.  | Trifacta |"
   ]
  },
  {
   "cell_type": "markdown",
   "id": "7910139d-a7c5-4c0b-b751-1ee27114aeb9",
   "metadata": {},
   "source": [
    "Create a code cell to multiply and add numbers:\n",
    "\n",
    "When `y = 6`, that means `x + 1 = 6`"
   ]
  },
  {
   "cell_type": "code",
   "execution_count": 9,
   "id": "1749d3b5-5140-4318-b37a-f228117bc2db",
   "metadata": {},
   "outputs": [
    {
     "data": {
      "text/plain": [
       "17"
      ]
     },
     "execution_count": 9,
     "metadata": {},
     "output_type": "execute_result"
    }
   ],
   "source": [
    "####Create a code cell to multiply and add numbers.(\n",
    "\n",
    "(3*4)+5"
   ]
  },
  {
   "cell_type": "code",
   "execution_count": 12,
   "id": "4c42ebcd-5e88-4861-af92-87f4e78d9c62",
   "metadata": {},
   "outputs": [
    {
     "name": "stdout",
     "output_type": "stream",
     "text": [
      "3.3333333333333335\n"
     ]
    }
   ],
   "source": [
    "###This will convert 200 minutes in seconds\n",
    "print(200/60)\n"
   ]
  },
  {
   "cell_type": "markdown",
   "id": "fb0fce52-2a4a-49bc-869c-606a94a4a8b0",
   "metadata": {},
   "source": [
    "Learning Python Objectives:\n",
    "\n",
    "- To understand why Python is a useful scripting language for developers.\n",
    "- To learn how to design and program Python applications.\n",
    "- To learn how to use lists, tuples, and dictionaries in Python programs.\n",
    "- To learn how to identify Python object types.\n",
    "- To learn how to use indexing and slicing to access data in Python programs.\n",
    "- To define the structure and components of a Python program.\n",
    "- To learn how to write loops and decision statements in Python.\n",
    "- To learn how to write functions and pass arguments in Python.\n",
    "- To learn how to build and package Python modules for reusability.\n",
    "- To learn how to read and write files in Python.\n",
    "- To learn how to design object‐oriented programs with Python classes.\n",
    "- To learn how to use class inheritance in Python for reusability.\n",
    "- To learn how to use exception handling in Python applications for error handling.\n"
   ]
  },
  {
   "cell_type": "markdown",
   "id": "7304b391-623d-4230-be63-63cd8d3bab72",
   "metadata": {},
   "source": [
    "Author’s name of the learning Python objectives:\n",
    "\n",
    "[_Anderson Software Group, Inc._](https://asgteach.com/courses/python/python-programming-learning-objectives/#:~:text=To%20understand%20why%20Python%20is,to%20identify%20Python%20object%20types.)"
   ]
  },
  {
   "cell_type": "code",
   "execution_count": null,
   "id": "6b7ad4bc-1126-489d-9417-2b2dcdcf30d1",
   "metadata": {},
   "outputs": [],
   "source": []
  }
 ],
 "metadata": {
  "kernelspec": {
   "display_name": "Python",
   "language": "python",
   "name": "conda-env-python-py"
  },
  "language_info": {
   "codemirror_mode": {
    "name": "ipython",
    "version": 3
   },
   "file_extension": ".py",
   "mimetype": "text/x-python",
   "name": "python",
   "nbconvert_exporter": "python",
   "pygments_lexer": "ipython3",
   "version": "3.7.12"
  }
 },
 "nbformat": 4,
 "nbformat_minor": 5
}
