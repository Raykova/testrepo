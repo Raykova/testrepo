{
 "cells": [
  {
   "cell_type": "markdown",
   "metadata": {},
   "source": [
    "<center>\n",
    "    <img src=\"https://cf-courses-data.s3.us.cloud-object-storage.appdomain.cloud/IBMDeveloperSkillsNetwork-DS0105EN-SkillsNetwork/labs/Module2/images/SN_web_lightmode.png\" width=\"300\" alt=\"cognitiveclass.ai logo\">\n",
    "</center>\n"
   ]
  },
  {
   "cell_type": "markdown",
   "metadata": {},
   "source": [
    "#### Add your code below following the instructions given in the course\n"
   ]
  },
  {
   "cell_type": "markdown",
   "metadata": {},
   "source": [
    "# \"My Jupyter Notebook on IBM Watson Studio\""
   ]
  },
  {
   "cell_type": "markdown",
   "metadata": {},
   "source": [
    "Cell 2: \n",
    "My name is **Aneliya Sabinova Raykova**. My desired occupation is to become a Data scientist."
   ]
  },
  {
   "cell_type": "markdown",
   "metadata": {},
   "source": [
    "_Cell 3: I am interested in Data science as a continuous pathway after my successfully completed PhD degree in Ecology. During my PhD, I had a chance to work with a big set of data and work with advanced statistical methods. This was a very inspiring moment for me, as it sparked my enthusiasm for becoming a Data scientist_"
   ]
  },
  {
   "cell_type": "markdown",
   "metadata": {},
   "source": [
    "### Cell 4: The code below ( in cell 5) must be executed and must display an output. I need to keep the code simple (example: \"1 + 1\")."
   ]
  },
  {
   "cell_type": "code",
   "execution_count": 1,
   "metadata": {},
   "outputs": [
    {
     "data": {
      "text/plain": [
       "2"
      ]
     },
     "execution_count": 1,
     "metadata": {},
     "output_type": "execute_result"
    }
   ],
   "source": [
    "1 + 1 "
   ]
  },
  {
   "cell_type": "markdown",
   "metadata": {},
   "source": [
    "Cell 6: \n",
    "    bulleted list:\n",
    "    \n",
    "    - Apple \n",
    "    - Banana\n",
    "    - Cherry\n",
    "    \n",
    "    numbered list:\n",
    "    \n",
    "    1. Apple \n",
    "    2. Banana\n",
    "    3. Cherry\n",
    "    \n",
    "      \n",
    "    code:\n",
    "    When `y = 6`, that means `x + 1 = 6`\n",
    "    \n",
    "    hyperlink:\n",
    "Please find my [LinkedIn](https://www.linkedin.com/in/aneliya-raykova-48363092/) account to learn more about me. Thank you"
   ]
  },
  {
   "cell_type": "code",
   "execution_count": null,
   "metadata": {},
   "outputs": [],
   "source": []
  }
 ],
 "metadata": {
  "kernelspec": {
   "display_name": "Python",
   "language": "python",
   "name": "conda-env-python-py"
  },
  "language_info": {
   "codemirror_mode": {
    "name": "ipython",
    "version": 3
   },
   "file_extension": ".py",
   "mimetype": "text/x-python",
   "name": "python",
   "nbconvert_exporter": "python",
   "pygments_lexer": "ipython3",
   "version": "3.7.12"
  }
 },
 "nbformat": 4,
 "nbformat_minor": 4
}
